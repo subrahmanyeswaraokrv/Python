{
  "nbformat": 4,
  "nbformat_minor": 0,
  "metadata": {
    "colab": {
      "provenance": []
    },
    "kernelspec": {
      "name": "python3",
      "display_name": "Python 3"
    },
    "language_info": {
      "name": "python"
    }
  },
  "cells": [
    {
      "cell_type": "markdown",
      "source": [
        "##Python Crash Course 1\n",
        "\n",
        "**AGENDA**\n",
        "- Introduction to Jupyter notebooks for Python\n",
        "- Basic Syntax and Operation in Python\n",
        "- Data Structures in Python\n",
        "- Control Structures and functions in Python"
      ],
      "metadata": {
        "id": "wP2i3LIhxbRB"
      }
    },
    {
      "cell_type": "markdown",
      "source": [
        "### Basic Syntax and Opertaions in Python"
      ],
      "metadata": {
        "id": "37qKXRo92EP2"
      }
    },
    {
      "cell_type": "code",
      "source": [
        "# Basic arithmetic operations such as +, -, *, %, **\n",
        "a = 5 + 10\n",
        "b = 19 - 6\n",
        "c = 61 * 2\n",
        "d = 45 / 9\n",
        "e = 12 % 10\n",
        "f = 3 ** 3"
      ],
      "metadata": {
        "id": "8pbKpcWHy8qg"
      },
      "execution_count": 1,
      "outputs": []
    },
    {
      "cell_type": "code",
      "source": [
        "# print -- inline comment\n",
        "'''\n",
        "Let's try differnt types of comments\n",
        "-> This is example of multi line or block comments\n",
        "'''\n",
        "print(a)\n",
        "print(f\"The value of b is {b}, c is {c}, d is {d}\")\n",
        "print(\"The values of e and f are {} and {} respectively\".format(e, f))"
      ],
      "metadata": {
        "colab": {
          "base_uri": "https://localhost:8080/"
        },
        "id": "LEG7ZXqk2iDC",
        "outputId": "b84a4445-9a03-4d1c-eab8-1fb147747284"
      },
      "execution_count": 2,
      "outputs": [
        {
          "output_type": "stream",
          "name": "stdout",
          "text": [
            "15\n",
            "The value of b is 13, c is 122, d is 5.0\n",
            "The values of e and f are 2 and 27 respectively\n"
          ]
        }
      ]
    },
    {
      "cell_type": "code",
      "source": [
        "str_var = \"Now, this is a string variable\"\n",
        "print(str_var)\n",
        "bool_var = True\n",
        "complex_var = 10 + 2j"
      ],
      "metadata": {
        "colab": {
          "base_uri": "https://localhost:8080/"
        },
        "id": "s2hgIjYU28wx",
        "outputId": "45fdd5f2-8a6f-4e88-af7a-44b0088c9318"
      },
      "execution_count": 3,
      "outputs": [
        {
          "output_type": "stream",
          "name": "stdout",
          "text": [
            "Now, this is a string variable\n"
          ]
        }
      ]
    },
    {
      "cell_type": "code",
      "source": [
        "\"\"\"\n",
        "Let's see basic data types in Python\n",
        "\"\"\"\n",
        "print(f\"Type of variable a is: {type(a)}\")\n",
        "print(f\"Type of variable d is: {type(d)}\")\n",
        "print(f\"Type of variable str is: {type(str_var)}\")\n",
        "print(f\"Type of variable (e,f) is: {type((e,f))}\")\n",
        "print(f\"Type of variable bool_var is: {type(bool_var)}\")\n",
        "print(f\"Type of variable complex_var is: {type(complex_var)}\")"
      ],
      "metadata": {
        "colab": {
          "base_uri": "https://localhost:8080/"
        },
        "id": "f0vOggrG3rmD",
        "outputId": "39e28edc-4b53-4637-9efe-cd5eb516b95c"
      },
      "execution_count": 9,
      "outputs": [
        {
          "output_type": "stream",
          "name": "stdout",
          "text": [
            "Type of variable a is: <class 'int'>\n",
            "Type of variable d is: <class 'float'>\n",
            "Type of variable str is: <class 'str'>\n",
            "Type of variable (e,f) is: <class 'tuple'>\n",
            "Type of variable bool_var is: <class 'bool'>\n",
            "Type of variable complex_var is: <class 'complex'>\n"
          ]
        }
      ]
    },
    {
      "cell_type": "code",
      "source": [
        "# Taking input in Python\n",
        "name = input(\"Enter your first name: \")\n",
        "print(\"Hey! \" + name)"
      ],
      "metadata": {
        "colab": {
          "base_uri": "https://localhost:8080/"
        },
        "id": "VGAU0zFf4CHZ",
        "outputId": "fdd9d7f3-352b-4b14-ca34-fdd4dc22e842"
      },
      "execution_count": 5,
      "outputs": [
        {
          "output_type": "stream",
          "name": "stdout",
          "text": [
            "Enter your first name: Adi\n",
            "Hey! Adi\n"
          ]
        }
      ]
    },
    {
      "cell_type": "code",
      "source": [
        "age = int(input(\"Enter your age: \"))\n",
        "new = str(age + 1)\n",
        "name = input(\"Enter your name: \")\n",
        "print(\"Hey! \" + name + \" Next year you will be \" + new)"
      ],
      "metadata": {
        "colab": {
          "base_uri": "https://localhost:8080/"
        },
        "id": "eo5-0Q3u5g0q",
        "outputId": "27bde5c9-1b67-4618-f49b-81f1c5ab141f"
      },
      "execution_count": 6,
      "outputs": [
        {
          "output_type": "stream",
          "name": "stdout",
          "text": [
            "Enter your age: 30\n",
            "Enter your name: Ram\n",
            "Hey! Ram Next year you will be 31\n"
          ]
        }
      ]
    },
    {
      "cell_type": "markdown",
      "source": [
        "### Data Structures in Python"
      ],
      "metadata": {
        "id": "rextkCI48UHs"
      }
    },
    {
      "cell_type": "code",
      "source": [
        "# This is a list\n",
        "new_list = [1, 2, \"string\"]\n",
        "print(type(new_list))"
      ],
      "metadata": {
        "colab": {
          "base_uri": "https://localhost:8080/"
        },
        "id": "KvzESz725nPL",
        "outputId": "20665440-9938-4e9f-aab4-e251628eefe4"
      },
      "execution_count": 10,
      "outputs": [
        {
          "output_type": "stream",
          "name": "stdout",
          "text": [
            "<class 'list'>\n"
          ]
        }
      ]
    },
    {
      "cell_type": "code",
      "source": [
        "# This is a tuple\n",
        "new_tuple = (0, \"string\")\n",
        "print(type(new_tuple))"
      ],
      "metadata": {
        "colab": {
          "base_uri": "https://localhost:8080/"
        },
        "id": "fw2IVb1v6syz",
        "outputId": "570debe3-0a96-4b57-98cf-69d156073a2c"
      },
      "execution_count": 11,
      "outputs": [
        {
          "output_type": "stream",
          "name": "stdout",
          "text": [
            "<class 'tuple'>\n"
          ]
        }
      ]
    },
    {
      "cell_type": "code",
      "source": [
        "# This is a dictionary\n",
        "new_dict = { 1 : \"Value1\",\n",
        "             2 : \"Value2\",\n",
        "             3 : \"Value3\"\n",
        "           }\n",
        "print(new_dict)\n",
        "print(type(new_dict))           "
      ],
      "metadata": {
        "colab": {
          "base_uri": "https://localhost:8080/"
        },
        "id": "p2hxdd468qUb",
        "outputId": "5154ae0a-b41c-4e9e-f2a0-ec5af49859be"
      },
      "execution_count": 12,
      "outputs": [
        {
          "output_type": "stream",
          "name": "stdout",
          "text": [
            "{1: 'Value1', 2: 'Value2', 3: 'Value3'}\n",
            "<class 'dict'>\n"
          ]
        }
      ]
    },
    {
      "cell_type": "code",
      "source": [
        "# This is a set\n",
        "setA = set([1, 1, 4, 4, 4, 9, 9, 16, 25, 25, 25])\n",
        "print(setA)\n",
        "print(type(setA))"
      ],
      "metadata": {
        "colab": {
          "base_uri": "https://localhost:8080/"
        },
        "id": "hGDQo6128--k",
        "outputId": "b364cd30-859c-417a-ae72-0946b02f429c"
      },
      "execution_count": 14,
      "outputs": [
        {
          "output_type": "stream",
          "name": "stdout",
          "text": [
            "{1, 4, 9, 16, 25}\n",
            "<class 'set'>\n"
          ]
        }
      ]
    },
    {
      "cell_type": "markdown",
      "source": [
        "### Control Structures and functions in Python"
      ],
      "metadata": {
        "id": "ZVQC77U69srR"
      }
    },
    {
      "cell_type": "code",
      "source": [
        "# if-elif-else\n",
        "score = 85\n",
        "grade = None\n",
        "print(type(None))\n",
        "\n",
        "if score >= 80:\n",
        "  grade = 'A'\n",
        "elif score >= 60:\n",
        "  grade = 'B'\n",
        "elif score >= 40:\n",
        "  grade = 'C'\n",
        "else:\n",
        "  grade = 'F'\n",
        "\n",
        "print(grade)"
      ],
      "metadata": {
        "colab": {
          "base_uri": "https://localhost:8080/"
        },
        "id": "PSllaqyo9O1L",
        "outputId": "1f2f4267-05cc-4ab0-90f4-3c7981346d13"
      },
      "execution_count": 3,
      "outputs": [
        {
          "output_type": "stream",
          "name": "stdout",
          "text": [
            "<class 'NoneType'>\n",
            "A\n"
          ]
        }
      ]
    },
    {
      "cell_type": "code",
      "source": [
        "# loops\n",
        "# for loops\n",
        "age = 20\n",
        "\n",
        "for age in range(18, 25):\n",
        "  print(age)\n"
      ],
      "metadata": {
        "colab": {
          "base_uri": "https://localhost:8080/"
        },
        "id": "mIlc3V7K9wkF",
        "outputId": "eea77d71-bf86-4c94-e764-9e3d219edce6"
      },
      "execution_count": 6,
      "outputs": [
        {
          "output_type": "stream",
          "name": "stdout",
          "text": [
            "18\n",
            "19\n",
            "20\n",
            "21\n",
            "22\n",
            "23\n",
            "24\n"
          ]
        }
      ]
    },
    {
      "cell_type": "code",
      "source": [
        "vowels = ['a', 'e', 'i', 'o', 'u']\n",
        "text = \"Hello\"\n",
        "vowel_counter = 0\n",
        "\n",
        "for ch in text:\n",
        "  if ch in vowels:\n",
        "    vowel_counter += 1\n",
        "\n",
        "print(vowel_counter)"
      ],
      "metadata": {
        "colab": {
          "base_uri": "https://localhost:8080/"
        },
        "id": "Sjn65m9uEQOd",
        "outputId": "dd290f85-0565-4992-b135-34744923ecc3"
      },
      "execution_count": 9,
      "outputs": [
        {
          "output_type": "stream",
          "name": "stdout",
          "text": [
            "2\n"
          ]
        }
      ]
    },
    {
      "cell_type": "code",
      "source": [
        "# while loops\n",
        "a = 8\n",
        "while (a > 5):\n",
        "  print(f\"{a} is greater than 5\")\n",
        "  a -= 1"
      ],
      "metadata": {
        "colab": {
          "base_uri": "https://localhost:8080/"
        },
        "id": "45m-xpxUEW-i",
        "outputId": "91354581-34ca-4400-dbdb-76cee375e2c5"
      },
      "execution_count": 1,
      "outputs": [
        {
          "output_type": "stream",
          "name": "stdout",
          "text": [
            "8 is greater than 5\n",
            "7 is greater than 5\n",
            "6 is greater than 5\n"
          ]
        }
      ]
    },
    {
      "cell_type": "code",
      "source": [
        "# List comprehension\n",
        "num_list = [1, 2, 3, 7]\n",
        "cube_list = [i**3 for i in num_list]\n",
        "print(cube_list)\n",
        "\n",
        "# conditionals in list comprehensions\n",
        "even_cubes = [i**3 for i in num_list if i%2 == 0]\n",
        "print(even_cubes)\n",
        "\n",
        "sq_cubes = [i**3 if i%2==0 else i**2 for i in num_list]\n",
        "print(sq_cubes)"
      ],
      "metadata": {
        "colab": {
          "base_uri": "https://localhost:8080/"
        },
        "id": "oBY5Kk3i90X7",
        "outputId": "41564027-cd3c-46fb-d6f1-2b2ef57f9429"
      },
      "execution_count": 5,
      "outputs": [
        {
          "output_type": "stream",
          "name": "stdout",
          "text": [
            "[1, 8, 27, 343]\n",
            "[8]\n",
            "[1, 8, 9, 49]\n"
          ]
        }
      ]
    },
    {
      "cell_type": "code",
      "source": [
        "# Functions\n",
        "def my_func(i):\n",
        "  if i%2 == 0:\n",
        "    return i**3\n",
        "  else:\n",
        "    return i**2\n",
        "\n",
        "for i in num_list:\n",
        "  print(my_func(i))"
      ],
      "metadata": {
        "colab": {
          "base_uri": "https://localhost:8080/"
        },
        "id": "LF20Yb1399qs",
        "outputId": "3af268d0-329d-4e25-e00f-9fbe0ca45c60"
      },
      "execution_count": 6,
      "outputs": [
        {
          "output_type": "stream",
          "name": "stdout",
          "text": [
            "1\n",
            "8\n",
            "9\n",
            "49\n"
          ]
        }
      ]
    },
    {
      "cell_type": "code",
      "source": [
        "# Lambda functions - is an anonymous function, which means that it is a function without a name. \n",
        "transform_x = lambda x : x**3 if(x%2 == 0) else x**2\n",
        "\n",
        "for i in num_list:\n",
        "  print(transform_x(i))"
      ],
      "metadata": {
        "colab": {
          "base_uri": "https://localhost:8080/"
        },
        "id": "3h676VOk-TAe",
        "outputId": "c1a64d24-973c-4539-c09d-8a29244e9d57"
      },
      "execution_count": 8,
      "outputs": [
        {
          "output_type": "stream",
          "name": "stdout",
          "text": [
            "1\n",
            "8\n",
            "9\n",
            "49\n"
          ]
        }
      ]
    },
    {
      "cell_type": "code",
      "source": [
        "# Map, Filter, Reduce\n",
        "\"\"\"\n",
        "Map is a function that works like list comprehensions and for loops. \n",
        "It is used when you need to map or implement functions \n",
        "on various elements at the same time.\n",
        "\"\"\"\n",
        "print(\"Transforming num_list using map function : \", end=\"\")\n",
        "print(list(map(transform_x, num_list)))\n",
        "\n",
        "\n",
        "\"\"\"\n",
        "Filter is a similar operation, but it requires the function to look for a condition \n",
        "and then, only returns those elements from the collection that satisfy the condition. \n",
        "\"\"\"\n",
        "print(\"Extracting odd elements using filter : \", end=\"\")\n",
        "print(list(filter(lambda x: x%2 !=0, num_list)))\n",
        "\n",
        "\"\"\"\n",
        "'Reduce' is an operation that breaks down the entire process \n",
        "into pair-wise operations \n",
        "and uses the result from each operation, with the successive element.\n",
        "\"\"\"\n",
        "from functools import reduce\n",
        "\n",
        "# using reduce to compute maximum element from list\n",
        "print(\"The maximum element of the list is : \", end=\"\")\n",
        "print(reduce(lambda a, b: a if a > b else b, num_list))"
      ],
      "metadata": {
        "colab": {
          "base_uri": "https://localhost:8080/"
        },
        "id": "SItUhB0f-VAb",
        "outputId": "c9cef7f9-d00e-4592-a050-9010456c9ce6"
      },
      "execution_count": 13,
      "outputs": [
        {
          "output_type": "stream",
          "name": "stdout",
          "text": [
            "Transforming num_list using map function : [1, 8, 9, 49]\n",
            "Extracting odd elements using filter : [1, 3, 7]\n",
            "The maximum element of the list is : 7\n"
          ]
        }
      ]
    },
    {
      "cell_type": "markdown",
      "source": [
        "### Ungraded Assignments\n",
        "1. Python program to print Fibonacci series of any input 'n'\n",
        "2. Python program to check if a string is Palindrome or not"
      ],
      "metadata": {
        "id": "19trRpfz-kNA"
      }
    },
    {
      "cell_type": "code",
      "source": [],
      "metadata": {
        "id": "kSzoa_Mt-XD1"
      },
      "execution_count": null,
      "outputs": []
    }
  ]
}